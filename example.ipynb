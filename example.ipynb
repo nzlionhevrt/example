{
 "cells": [
  {
   "cell_type": "markdown",
   "metadata": {},
   "source": [
    "# Импорт библиотек"
   ]
  },
  {
   "cell_type": "code",
   "execution_count": 3,
   "metadata": {},
   "outputs": [
    {
     "name": "stderr",
     "output_type": "stream",
     "text": [
      "Using TensorFlow backend.\n"
     ]
    }
   ],
   "source": [
    "import os\n",
    "\n",
    "from keras.models import load_model\n",
    "import numpy as np\n",
    "from keras.preprocessing.text import Tokenizer\n",
    "import pandas as pd\n",
    "import argparse,stop_words_remover as swr"
   ]
  },
  {
   "cell_type": "markdown",
   "metadata": {},
   "source": [
    "# Список классов"
   ]
  },
  {
   "cell_type": "code",
   "execution_count": 1,
   "metadata": {},
   "outputs": [],
   "source": [
    "classes = {'Автоистория': 0,\n",
    "           'Автострахование': 1,\n",
    "           'ВУ': 2,\n",
    "           'Жалобы':3,\n",
    "           'Запись в ГИБДД':4,\n",
    "           'Запись в МАДИ':5,\n",
    "           'Запись на медкомиссию':6,\n",
    "           'Нарушения и штрафы':7,\n",
    "           'Обращения в МАДИ и АМПП':8,\n",
    "           'ПТС':9,\n",
    "           'Регистрация':10,\n",
    "           'Статус регистрации':11,\n",
    "           'Такси':12,\n",
    "           'Эвакуация':13\n",
    "          }"
   ]
  },
  {
   "cell_type": "markdown",
   "metadata": {},
   "source": [
    "# Загрузка предобученной модели"
   ]
  },
  {
   "cell_type": "code",
   "execution_count": 4,
   "metadata": {},
   "outputs": [
    {
     "name": "stdout",
     "output_type": "stream",
     "text": [
      "WARNING:tensorflow:From /home/iamlion12/anaconda3/lib/python3.7/site-packages/tensorflow/python/framework/op_def_library.py:263: colocate_with (from tensorflow.python.framework.ops) is deprecated and will be removed in a future version.\n",
      "Instructions for updating:\n",
      "Colocations handled automatically by placer.\n",
      "WARNING:tensorflow:From /home/iamlion12/anaconda3/lib/python3.7/site-packages/keras/backend/tensorflow_backend.py:3445: calling dropout (from tensorflow.python.ops.nn_ops) with keep_prob is deprecated and will be removed in a future version.\n",
      "Instructions for updating:\n",
      "Please use `rate` instead of `keep_prob`. Rate should be set to `rate = 1 - keep_prob`.\n",
      "WARNING:tensorflow:From /home/iamlion12/anaconda3/lib/python3.7/site-packages/tensorflow/python/ops/math_ops.py:3066: to_int32 (from tensorflow.python.ops.math_ops) is deprecated and will be removed in a future version.\n",
      "Instructions for updating:\n",
      "Use tf.cast instead.\n"
     ]
    }
   ],
   "source": [
    "model = load_model('classifier.h5')"
   ]
  },
  {
   "cell_type": "markdown",
   "metadata": {},
   "source": [
    "# Функция для вывода результатов"
   ]
  },
  {
   "cell_type": "code",
   "execution_count": 7,
   "metadata": {},
   "outputs": [],
   "source": [
    "def predict(str_query,numwords):\n",
    "    \n",
    "    tokenizer = Tokenizer(num_words=numwords)\n",
    "    X_raw_test = [str_query]\n",
    "    df = pd.read_csv('cleaned_dataset.csv', delimiter=';', encoding=\"utf-8\").astype(str)\n",
    "    X_raw = df['запрос'].values\n",
    "    tokenizer.fit_on_texts(X_raw)\n",
    "    x_test = tokenizer.texts_to_matrix(X_raw_test, mode='binary')\n",
    "    prediction = model.predict(np.array(x_test))\n",
    "    class_num = np.argmax(prediction[0])\n",
    "    for name, index in classes.items():\n",
    "        if index == class_num:\n",
    "            print(name)"
   ]
  },
  {
   "cell_type": "markdown",
   "metadata": {},
   "source": [
    "# Предсказание по запросу"
   ]
  },
  {
   "cell_type": "code",
   "execution_count": 8,
   "metadata": {},
   "outputs": [
    {
     "name": "stdout",
     "output_type": "stream",
     "text": [
      "Нарушения и штрафы\n"
     ]
    }
   ],
   "source": [
    "query = \"Оплатить штраф онлайн\"\n",
    "query = swr.remove_stop_words(query)\n",
    "predict(query,1000)"
   ]
  }
 ],
 "metadata": {
  "kernelspec": {
   "display_name": "Python 3",
   "language": "python",
   "name": "python3"
  },
  "language_info": {
   "codemirror_mode": {
    "name": "ipython",
    "version": 3
   },
   "file_extension": ".py",
   "mimetype": "text/x-python",
   "name": "python",
   "nbconvert_exporter": "python",
   "pygments_lexer": "ipython3",
   "version": "3.7.3"
  }
 },
 "nbformat": 4,
 "nbformat_minor": 2
}
